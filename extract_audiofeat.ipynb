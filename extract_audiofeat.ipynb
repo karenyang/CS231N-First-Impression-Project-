{
 "cells": [
  {
   "cell_type": "markdown",
   "metadata": {},
   "source": [
    "## to use pyAudioAnalysis, you will need the following\n",
    "  ```bash\n",
    "  pip install numpy matplotlib scipy sklearn hmmlearn simplejson eyed3 pydub  \n",
    "  brew install ffmeg\n",
    "  ```\n",
    " ### in this github, I have already  clean up the code , skip the next steps\n",
    " \n",
    " \n",
    " #### if you are not using our github repo , but recreating in your working folder\n",
    " ```bash\n",
    " git clone https://github.com/tyiannak/pyAudioAnalysis.git\n",
    " ```\n",
    " \n",
    " #### If you are using python3, but their codes are all python 2 ( with a lot of annoying print errors)you will need this to turn their code form python2 to python 3 version\n",
    " \n",
    " #### in your working folder, run\n",
    " ```bash\n",
    "2to3 -w pyAudioAnalysis\n",
    "```\n",
    "\n"
   ]
  },
  {
   "cell_type": "markdown",
   "metadata": {},
   "source": [
    "# you should change all the path in this block\n"
   ]
  },
  {
   "cell_type": "code",
   "execution_count": 1,
   "metadata": {
    "collapsed": true
   },
   "outputs": [],
   "source": [
    "\n",
    "# the directory should store the original mp4 video files\n",
    "mp4_dirpath =  './videos/'\n",
    "# this  directory will be created by the code to store the itermediate .wav file, will be cleaned up\n",
    "wav_dirpath =  './audio/'\n",
    "# this directory will be created by the code to store the final [filename].wav.csv file for audio features\n",
    "audiofeat_dirpath='./audiofeat/'\n",
    "\n",
    "numPartition = 10\n",
    "\n",
    "# need this to upload the libraries. \n",
    "import sys\n",
    "sys.path.append('./')\n",
    "sys.path.append('./pyAudioAnalysis/')"
   ]
  },
  {
   "cell_type": "code",
   "execution_count": 2,
   "metadata": {
    "collapsed": false
   },
   "outputs": [],
   "source": [
    "import scipy.io.wavfile as wav\n",
    "import subprocess\n",
    "import os\n",
    "from os import listdir\n",
    "from os.path import isfile, join\n",
    "import numpy as np\n",
    "from pyAudioAnalysis import audioBasicIO\n",
    "from pyAudioAnalysis import audioFeatureExtraction"
   ]
  },
  {
   "cell_type": "code",
   "execution_count": 6,
   "metadata": {
    "collapsed": false
   },
   "outputs": [],
   "source": [
    "def mkdir_p(path):\n",
    "    try:\n",
    "        os.makedirs(path)\n",
    "    except OSError as exc:  \n",
    "        if os.path.isdir(path):\n",
    "            pass\n",
    "        else:\n",
    "            raise\n",
    "def extractWavFilefromMP4(mp4_dirpath,wav_dirpath):\n",
    "    mkdir_p(wav_dirpath)\n",
    "    print('processing .mp4 files in ', mp4_dirpath, ' to .wav files and store in ', wav_dirpath)\n",
    "    allfiles = [f for f in listdir(mp4_dirpath) if (f != '.' and f != '..')]\n",
    "    for anyfile in allfiles:\n",
    "        filepath=  join(mp4_dirpath, anyfile)\n",
    "        if(isfile(filepath)):\n",
    "            if(filepath.lower().endswith('.mp4')):\n",
    "                path, filename = os.path.split(filepath)\n",
    "                command = \"ffmpeg -i \" + filepath + \" -ab 160k -ac 2 -ar 44100 -vn \" + join(wav_dirpath, filename) + \".wav\"\n",
    "                subprocess.call(command, shell = True)\n",
    "                \n",
    "    print( len(allfiles), ' mp4 -> wav  Done. ')           \n",
    "    \n",
    "def extractAudioFeaturesfromWav(wav_dirpath,audiofeat_dirpath,numPartition):\n",
    "    mkdir_p(audiofeat_dirpath)\n",
    "    print('extracting audio features from .wav files into ',numPartition,' partitions', 'and store as .wav.csv files in ', audiofeat_dirpath)\n",
    "    allfiles = [f for f in listdir(wav_dirpath) if (f != '.' and f != '..')]\n",
    "    for anyfile in allfiles:\n",
    "        filepath=  join(wav_dirpath, anyfile)\n",
    "        if(isfile(filepath)):\n",
    "            if(filepath.lower().endswith('.wav')):\n",
    "                path, filename = os.path.split(filepath)\n",
    "                (rate, sig) = audioBasicIO.readAudioFile(filepath);\n",
    "                mid_range =sig.shape[0]/float(rate)/(numPartition )\n",
    "                short_range = 0.05\n",
    "                audioFeatureExtraction.mtFeatureExtractionToFile(filepath,mid_range,mid_range,short_range,short_range,\\\n",
    "                                    join(audiofeat_dirpath, filename), storeStFeatures=True, storeToCSV=True)\n",
    "            \n",
    "    print( len(allfiles), 'wav -> audio_feat Done. ')\n",
    "\n"
   ]
  },
  {
   "cell_type": "code",
   "execution_count": 9,
   "metadata": {
    "collapsed": false
   },
   "outputs": [
    {
     "data": {
      "text/plain": [
       "0"
      ]
     },
     "execution_count": 9,
     "metadata": {},
     "output_type": "execute_result"
    }
   ],
   "source": [
    "extractWavFilefromMP4(mp4_dirpath,wav_dirpath)\n",
    "extractAudioFeaturesfromWav(wav_dirpath,audiofeat_dirpath,numPartition)\n",
    "subprocess.call(\"rm -f \" + audiofeat_dirpath + \"*.npy\", shell=True)  # clean up intermediate files\n",
    "subprocess.call(\"rm -f \" + audiofeat_dirpath + \"*.wav_st.csv\", shell=True)  # clean up intermediate files\n",
    "subprocess.call(\"rm -rf \" + wav_dirpath, shell=True)  # clean up all  wav files to save space\n",
    "\n",
    "#subprocess.call(\"rm -rf \" + mp4_dirpath, shell=True)  # clean up all processed mp4 files to save space"
   ]
  },
  {
   "cell_type": "code",
   "execution_count": 63,
   "metadata": {
    "collapsed": false
   },
   "outputs": [
    {
     "data": {
      "text/plain": [
       "0"
      ]
     },
     "execution_count": 63,
     "metadata": {},
     "output_type": "execute_result"
    }
   ],
   "source": []
  },
  {
   "cell_type": "code",
   "execution_count": 10,
   "metadata": {
    "collapsed": true
   },
   "outputs": [],
   "source": []
  },
  {
   "cell_type": "code",
   "execution_count": 11,
   "metadata": {
    "collapsed": false
   },
   "outputs": [],
   "source": []
  },
  {
   "cell_type": "code",
   "execution_count": 17,
   "metadata": {
    "collapsed": false
   },
   "outputs": [
    {
     "data": {
      "text/plain": [
       "0"
      ]
     },
     "execution_count": 17,
     "metadata": {},
     "output_type": "execute_result"
    }
   ],
   "source": []
  },
  {
   "cell_type": "code",
   "execution_count": null,
   "metadata": {
    "collapsed": true
   },
   "outputs": [],
   "source": []
  }
 ],
 "metadata": {
  "kernelspec": {
   "display_name": "Python 3",
   "language": "python",
   "name": "python3"
  },
  "language_info": {
   "codemirror_mode": {
    "name": "ipython",
    "version": 3
   },
   "file_extension": ".py",
   "mimetype": "text/x-python",
   "name": "python",
   "nbconvert_exporter": "python",
   "pygments_lexer": "ipython3",
   "version": "3.6.0"
  }
 },
 "nbformat": 4,
 "nbformat_minor": 0
}
