{
 "cells": [
  {
   "cell_type": "code",
   "execution_count": 8,
   "metadata": {
    "collapsed": false
   },
   "outputs": [],
   "source": [
    "import sys \n",
    "import random\n",
    "import os\n",
    "import pickle\n",
    "\n",
    "def resetNamesBack(dr):\n",
    "  fileEnding ='_50uniform' #TODO: figure out how to make more general\n",
    "\n",
    "  annotation_filename = dr + \"/annotation_training.pkl\"\n",
    "  with open(annotation_filename, 'rb') as f:\n",
    "        label_dicts = pickle.load(f,  encoding='latin1') \n",
    "\n",
    "  for fileName in os.listdir(dr):\n",
    "    fileName = fileName.replace(fileEnding,'.mp4')\n",
    "    if(label_dicts.get(fileName)== None):\n",
    "        print(fileName+ ' ' +  'not in dictionary')\n",
    "        fileNameCp  = fileName\n",
    "    for i in range(3):\n",
    "        fileNameCp  = '-' + fileNameCp\n",
    "        if(label_dicts.get(fileNameCp) != None):\n",
    "            print('renaming' + ' ' +  os.path.join(dr, fileName) + ' ' + os.path.join( dr, fileNameCp))\n",
    "            # os.rename(os.path.join(dr, fileName),os.path.join( dr, fileNameCp))\n",
    "            pass "
   ]
  },
  {
   "cell_type": "code",
   "execution_count": 46,
   "metadata": {
    "collapsed": false
   },
   "outputs": [],
   "source": [
    "annotation_filename = '../dataBig/train-1-2-4/val'  + \"/annotation_training.pkl\"\n",
    "with open(annotation_filename, 'rb') as f:\n",
    "        label_dicts = pickle.load(f,  encoding='latin1') "
   ]
  },
  {
   "cell_type": "code",
   "execution_count": 47,
   "metadata": {
    "collapsed": false
   },
   "outputs": [
    {
     "data": {
      "text/plain": [
       "['A6ZWTfKPLPE.005.mp4',\n",
       " 'XB4JOAiEanw.000.mp4',\n",
       " 'struoSVUsUg.002.mp4',\n",
       " 'PWM-bKcs2p8.004.mp4',\n",
       " 'WuHLxhCSnGs.005.mp4']"
      ]
     },
     "execution_count": 47,
     "metadata": {},
     "output_type": "execute_result"
    }
   ],
   "source": [
    "k = list(label_dicts)[0]\n",
    "movieNames = list( label_dicts[k])\n",
    "movieNames[0:5]"
   ]
  },
  {
   "cell_type": "code",
   "execution_count": 49,
   "metadata": {
    "collapsed": false
   },
   "outputs": [
    {
     "name": "stdout",
     "output_type": "stream",
     "text": [
      "utrsarZeIY.001.mp4 not in dictionary\n",
      "renaming ../dataBig/train-1-2-4/val/utrsarZeIY.001_50uniform ../dataBig/train-1-2-4/val/-utrsarZeIY.001_50uniform\n",
      "annotation_training.pkl not in dictionary\n",
      "R2SZu3SYgM.004.mp4 not in dictionary\n",
      "renaming ../dataBig/train-1-2-4/val/R2SZu3SYgM.004_50uniform ../dataBig/train-1-2-4/val/-R2SZu3SYgM.004_50uniform\n",
      "VTqcHNgH7M.002.mp4 not in dictionary\n",
      "renaming ../dataBig/train-1-2-4/val/VTqcHNgH7M.002_50uniform ../dataBig/train-1-2-4/val/-VTqcHNgH7M.002_50uniform\n",
      "Wqk9eex6bQ.004.mp4 not in dictionary\n",
      "renaming ../dataBig/train-1-2-4/val/Wqk9eex6bQ.004_50uniform ../dataBig/train-1-2-4/val/-Wqk9eex6bQ.004_50uniform\n",
      "OXMbG7ZwRk.003.mp4 not in dictionary\n",
      "renaming ../dataBig/train-1-2-4/val/OXMbG7ZwRk.003_50uniform ../dataBig/train-1-2-4/val/-OXMbG7ZwRk.003_50uniform\n",
      "Wqk9eex6bQ.003.mp4 not in dictionary\n",
      "renaming ../dataBig/train-1-2-4/val/Wqk9eex6bQ.003_50uniform ../dataBig/train-1-2-4/val/-Wqk9eex6bQ.003_50uniform\n",
      "index.html not in dictionary\n",
      "fqiCqZtgYs.003.mp4 not in dictionary\n",
      "renaming ../dataBig/train-1-2-4/val/fqiCqZtgYs.003_50uniform ../dataBig/train-1-2-4/val/-fqiCqZtgYs.003_50uniform\n",
      "Gl98Jn45Fs.003.mp4 not in dictionary\n",
      "renaming ../dataBig/train-1-2-4/val/Gl98Jn45Fs.003_50uniform ../dataBig/train-1-2-4/val/-Gl98Jn45Fs.003_50uniform\n",
      "DOqN0d8KHw.003.mp4 not in dictionary\n",
      "renaming ../dataBig/train-1-2-4/val/DOqN0d8KHw.003_50uniform ../dataBig/train-1-2-4/val/-DOqN0d8KHw.003_50uniform\n"
     ]
    }
   ],
   "source": [
    "dr = '../dataBig/train-1-2-4/val'\n",
    "fileEnding ='_50uniform'\n",
    "for fileName in os.listdir(dr):\n",
    "    fileName = fileName.replace(fileEnding,'.mp4')\n",
    "    if(not (fileName in movieNames)):\n",
    "        print(fileName+ ' ' +  'not in dictionary')\n",
    "        fileNameCp  = fileName\n",
    "        for i in range(3):\n",
    "            fileNameCp  = '-' + fileNameCp\n",
    "            if(fileNameCp in movieNames and (fileName != '9BZ8A9U7TE.004.mp4')):\n",
    "                fileNameNew = fileNameCp.replace('.mp4', fileEnding)\n",
    "                fileName = fileName.replace('.mp4', fileEnding)\n",
    "                print('renaming' + ' ' +  os.path.join(dr, fileName) + ' ' + os.path.join( dr, fileNameNew))\n",
    "                os.rename(os.path.join(dr, fileName),os.path.join( dr, fileNameNew))\n",
    "                pass "
   ]
  },
  {
   "cell_type": "code",
   "execution_count": 50,
   "metadata": {
    "collapsed": false
   },
   "outputs": [
    {
     "name": "stdout",
     "output_type": "stream",
     "text": [
      "annotation_training.pkl not in dictionary\n",
      "index.html not in dictionary\n"
     ]
    }
   ],
   "source": [
    "dr = '../dataBig/train-1-2-4/val'\n",
    "fileEnding ='_50uniform'\n",
    "for fileName in os.listdir(dr):\n",
    "    fileName = fileName.replace(fileEnding,'.mp4')\n",
    "    if(not (fileName in movieNames)):\n",
    "        print(fileName+ ' ' +  'not in dictionary')\n",
    "        "
   ]
  }
 ],
 "metadata": {
  "kernelspec": {
   "display_name": "Python 3",
   "language": "python",
   "name": "python3"
  },
  "language_info": {
   "codemirror_mode": {
    "name": "ipython",
    "version": 3
   },
   "file_extension": ".py",
   "mimetype": "text/x-python",
   "name": "python",
   "nbconvert_exporter": "python",
   "pygments_lexer": "ipython3",
   "version": "3.5.2"
  }
 },
 "nbformat": 4,
 "nbformat_minor": 0
}
